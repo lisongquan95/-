{
 "cells": [
  {
   "cell_type": "markdown",
   "metadata": {},
   "source": [
    "# Homework 1-1\n",
    "\n",
    "---\n",
    "\n",
    "Welcome to Data Science Course. To ensure everything goes smoothly moving forward, we will setup the majority of those tools in this homework. While some of this will likely be dull, doing it now will enable us to do more exciting work in the weeks that follow without getting bogged down in further software configuration. \n",
    "\n",
    "\n",
    "## Programming expectations\n",
    "\n",
    "All the homework for this class will use Python and, for the most part, the browser-based Jupyter notebook format you are currently viewing. Knowledge of Python is not a prerequisite for this course, **provided you are comfortable learning on your own as needed**. While we have strived to make the programming component of this course straightforward, we will not devote much time to teaching prorgramming or Python syntax. Basically, you should feel comfortable with:\n",
    "\n",
    "* How to look up Python syntax on Google and StackOverflow.\n",
    "* Basic programming concepts like functions, loops, arrays, dictionaries, strings, and if statements.\n",
    "* How to learn new libraries by reading documentation.\n",
    "* Asking questions on StackOverflow or Google.\n",
    "\n",
    "There are many online tutorials to introduce you to scientific python programming.\n",
    "\n",
    "## Getting Python\n",
    "\n",
    "You will be using Python throughout the course, including many popular 3rd party Python libraries for scientific computing. Anaconda is an easy-to-install bundle of Python and most of these libraries. We recommend that you use Anaconda for this course.\n",
    "\n",
    "\n",
    "## Hello, Python\n",
    "\n",
    "The Jupyter notebook is an application to build interactive computational notebooks. You'll be using them to complete homework. Once you've set up Python, please open this page(*.ipynb) with Jupyter notebook, by running anaconda navigator and Jupyter notebook.\n",
    "\n",
    "Notebooks are composed of many \"cells\", which can contain text (like this one), or code (like the one below). Double click on the cell below, and evaluate it by clicking the \"Run\" button above."
   ]
  },
  {
   "cell_type": "code",
   "execution_count": 1,
   "metadata": {},
   "outputs": [
    {
     "name": "stdout",
     "output_type": "stream",
     "text": [
      "Item is  10\n",
      "Item is  20\n",
      "Item is  30\n",
      "Item is  40\n",
      "Item is  50\n"
     ]
    }
   ],
   "source": [
    "x = [10, 20, 30, 40, 50]\n",
    "for item in x:\n",
    "    print(\"Item is \", item) "
   ]
  },
  {
   "cell_type": "markdown",
   "metadata": {},
   "source": [
    "## Python Libraries\n",
    "\n",
    "We will be using a several different libraries throughout this course. If you've successfully completed the installation instructions, all of the following statements should run."
   ]
  },
  {
   "cell_type": "code",
   "execution_count": 3,
   "metadata": {},
   "outputs": [
    {
     "name": "stdout",
     "output_type": "stream",
     "text": [
      "Numpy version:  1.19.5 \n",
      "SciPy version:   1.7.1 \n",
      "Pandas version:   1.3.2\n",
      "Mapltolib version:   3.4.2\n",
      "Scikit-Learn version: 0.24.2 \n",
      "requests version:     2.26.0\n",
      "NetworkX version:      2.6.2 \n",
      "BeautifulSoup version:4.10.0 \n"
     ]
    }
   ],
   "source": [
    "\n",
    "# Numpy is a library for working with Arrays\n",
    "import numpy as np\n",
    "print(\"Numpy version:  %6.6s \" % np.__version__) \n",
    "\n",
    "# SciPy implements many different numerical algorithms\n",
    "import scipy as sp\n",
    "print(\"SciPy version:  %6.6s \" % sp.__version__) \n",
    "\n",
    "# Pandas makes working with data tables easier\n",
    "import pandas as pd\n",
    "print(\"Pandas version:  %6.6s\" % pd.__version__) \n",
    "\n",
    "# Module for plotting\n",
    "import matplotlib\n",
    "print(\"Mapltolib version:  %6.6s\" % matplotlib.__version__) \n",
    "\n",
    "# SciKit Learn implements several Machine Learning algorithms\n",
    "import sklearn\n",
    "print(\"Scikit-Learn version: %6.6s \" % sklearn.__version__) \n",
    "\n",
    "# Requests is a library for getting data from the Web\n",
    "import requests\n",
    "print(\"requests version:     %6.6s\" % requests.__version__) \n",
    "\n",
    "# Networkx is a library for working with networks\n",
    "import networkx as nx\n",
    "print(\"NetworkX version:     %6.6s \" % nx.__version__) \n",
    "\n",
    "\n",
    "#BeautifulSoup is a library to parse HTML and XML documents\n",
    "import bs4\n",
    "print(\"BeautifulSoup version:%6.6s \" % bs4.__version__) \n",
    "\n",
    "\n",
    "\n",
    "\n"
   ]
  },
  {
   "cell_type": "markdown",
   "metadata": {},
   "source": [
    "If any of these libraries are missing or out of date, you will need to install them.and restart Jupyter notebook."
   ]
  },
  {
   "cell_type": "markdown",
   "metadata": {},
   "source": [
    "## Hello matplotlib"
   ]
  },
  {
   "cell_type": "markdown",
   "metadata": {},
   "source": [
    "The notebook integrates nicely with Matplotlib, the primary plotting package for python. This should embed a figure of a sine wave:"
   ]
  },
  {
   "cell_type": "code",
   "execution_count": 15,
   "metadata": {
    "scrolled": false
   },
   "outputs": [
    {
     "data": {
      "text/plain": [
       "Text(0, 0.5, 'Y axis')"
      ]
     },
     "execution_count": 15,
     "metadata": {},
     "output_type": "execute_result"
    },
    {
     "data": {
      "image/png": "[encoded data removed]",
      "text/plain": [
       "<Figure size 432x288 with 1 Axes>"
      ]
     },
     "metadata": {
      "needs_background": "light"
     },
     "output_type": "display_data"
    }
   ],
   "source": [
    "# this actually imports matplotlib\n",
    "import matplotlib.pyplot as plt  \n",
    "\n",
    "x = np.linspace(0, 10, 30)  #array of 30 points from 0 to 10\n",
    "y = np.sin(x)\n",
    "z = y + np.random.normal(size=30) * .2\n",
    "plt.plot(x, y, 'ro-', label='A sine wave')\n",
    "plt.plot(x, z, 'b-', label='Noisy sine')\n",
    "plt.legend(loc = 'lower right')\n",
    "plt.xlabel(\"X axis\")\n",
    "plt.ylabel(\"Y axis\")           "
   ]
  },
  {
   "cell_type": "markdown",
   "metadata": {},
   "source": []
  },
  {
   "cell_type": "markdown",
   "metadata": {},
   "source": [
    "## Hello Numpy\n",
    "\n",
    "The Numpy array processing library is the basis of nearly all numerical computing in Python. Here's a 30 second crash course. For more details, consult the [Numpy User's Guide](http://docs.scipy.org/doc/numpy-dev/user/index.html)"
   ]
  },
  {
   "cell_type": "code",
   "execution_count": 13,
   "metadata": {},
   "outputs": [
    {
     "name": "stdout",
     "output_type": "stream",
     "text": [
      "Make a 3 row x 4 column array of random numbers\n",
      "[[0.2350637  0.83412472 0.21481623 0.36335576]\n",
      " [0.45661952 0.92637044 0.06385174 0.68730314]\n",
      " [0.22965082 0.86057184 0.65459498 0.0762251 ]]\n",
      "\n",
      "\n",
      "Add 1 to every element\n",
      "[[1.2350637  1.83412472 1.21481623 1.36335576]\n",
      " [1.45661952 1.92637044 1.06385174 1.68730314]\n",
      " [1.22965082 1.86057184 1.65459498 1.0762251 ]]\n",
      "\n",
      "\n",
      "Get the element at row 1, column 2\n",
      "1.0638517355851547\n",
      "\n",
      "\n",
      "Get the first row\n",
      "[1.2350637  1.83412472 1.21481623 1.36335576]\n",
      "\n",
      "\n",
      "Get every 2nd column of the first row\n",
      "[1.2350637  1.21481623]\n",
      "\n",
      "\n"
     ]
    }
   ],
   "source": [
    "print(\"Make a 3 row x 4 column array of random numbers\") \n",
    "x = np.random.random((3, 4))\n",
    "print(x)\n",
    "print(\"\\n\")\n",
    "\n",
    "print(\"Add 1 to every element\") \n",
    "x = x + 1\n",
    "print(x)\n",
    "print(\"\\n\")\n",
    "\n",
    "print(\"Get the element at row 1, column 2\") \n",
    "print(x[1, 2]) \n",
    "print(\"\\n\")\n",
    "\n",
    "# The colon syntax is called \"slicing\" the array. \n",
    "print(\"Get the first row\") \n",
    "print(x[0, :]) \n",
    "print(\"\\n\")\n",
    "\n",
    "print(\"Get every 2nd column of the first row\") \n",
    "print(x[0, ::2]) \n",
    "print(\"\\n\")"
   ]
  },
  {
   "cell_type": "markdown",
   "metadata": {},
   "source": [
    "Print the maximum, minimum, and mean of the array. This does **not** require writing a loop. In the code cell below, type `x.m<TAB>`, to find built-in operations for common array statistics like this"
   ]
  },
  {
   "cell_type": "code",
   "execution_count": 21,
   "metadata": {},
   "outputs": [
    {
     "data": {
      "text/plain": [
       "(1.92637044078309, 1.4668789988294304, 1.0638517355851547)"
      ]
     },
     "execution_count": 21,
     "metadata": {},
     "output_type": "execute_result"
    }
   ],
   "source": [
    "#your code here\n",
    "x.max(),x.mean(),x.min()"
   ]
  },
  {
   "cell_type": "markdown",
   "metadata": {},
   "source": [
    "Call the `x.max` function again, but use the `axis` keyword to print the maximum of each row in x."
   ]
  },
  {
   "cell_type": "code",
   "execution_count": 24,
   "metadata": {},
   "outputs": [
    {
     "data": {
      "text/plain": [
       "(array([1.83412472, 1.92637044, 1.86057184]),\n",
       " array([[1.2350637 , 1.83412472, 1.21481623, 1.36335576],\n",
       "        [1.45661952, 1.92637044, 1.06385174, 1.68730314],\n",
       "        [1.22965082, 1.86057184, 1.65459498, 1.0762251 ]]))"
      ]
     },
     "execution_count": 24,
     "metadata": {},
     "output_type": "execute_result"
    }
   ],
   "source": [
    "#your code here\n",
    "x.max(axis=1),x"
   ]
  },
  {
   "cell_type": "markdown",
   "metadata": {},
   "source": [
    "Here's a way to quickly simulate 500 coin \"fair\" coin tosses (where the probabily of getting Heads is 50%, or 0.5)"
   ]
  },
  {
   "cell_type": "code",
   "execution_count": 13,
   "metadata": {
    "scrolled": true
   },
   "outputs": [
    {
     "name": "stdout",
     "output_type": "stream",
     "text": [
      "number of heads: 243\n"
     ]
    }
   ],
   "source": [
    "x = np.random.binomial(500, .5)\n",
    "print(\"number of heads:\", x) "
   ]
  },
  {
   "cell_type": "markdown",
   "metadata": {},
   "source": [
    "Repeat this simulation 500 times, and use the [plt.hist() function](http://matplotlib.org/api/pyplot_api.html#matplotlib.pyplot.hist) to plot a histogram of the number of Heads (1s) in each simulation"
   ]
  },
  {
   "cell_type": "code",
   "execution_count": 30,
   "metadata": {
    "scrolled": true
   },
   "outputs": [
    {
     "name": "stdout",
     "output_type": "stream",
     "text": [
      "500次投币，每次投币500枚，其中正面朝上的结果是：\n",
      " [260, 251, 239, 257, 229, 242, 251, 247, 248, 249, 245, 257, 256, 251, 249, 250, 246, 251, 255, 264, 244, 255, 256, 249, 251, 266, 258, 237, 227, 246, 255, 248, 260, 240, 254, 255, 258, 267, 248, 239, 252, 254, 253, 253, 232, 241, 243, 248, 240, 249, 242, 237, 248, 259, 267, 249, 275, 238, 257, 243, 218, 242, 241, 277, 249, 247, 258, 264, 252, 243, 252, 269, 252, 236, 258, 238, 257, 246, 259, 224, 245, 261, 249, 254, 246, 274, 245, 238, 263, 254, 247, 274, 261, 268, 253, 264, 239, 237, 250, 246, 239, 255, 254, 247, 251, 265, 254, 259, 229, 256, 252, 242, 263, 250, 242, 253, 244, 231, 261, 253, 257, 252, 240, 247, 255, 234, 254, 258, 249, 243, 271, 251, 255, 228, 265, 238, 257, 224, 233, 249, 250, 246, 266, 266, 245, 253, 243, 277, 245, 230, 264, 243, 241, 235, 266, 244, 237, 247, 257, 260, 237, 239, 247, 242, 247, 248, 259, 231, 260, 241, 245, 254, 262, 242, 264, 252, 235, 275, 260, 253, 252, 239, 230, 251, 253, 247, 231, 240, 252, 246, 250, 246, 249, 249, 247, 237, 263, 249, 255, 264, 261, 263, 256, 264, 253, 241, 257, 240, 247, 277, 234, 259, 249, 263, 265, 245, 240, 250, 257, 249, 236, 254, 235, 251, 244, 241, 227, 253, 252, 228, 254, 250, 255, 247, 234, 252, 253, 259, 238, 247, 244, 274, 254, 232, 255, 236, 251, 257, 247, 258, 247, 252, 277, 269, 257, 252, 240, 250, 255, 246, 239, 269, 261, 264, 242, 241, 258, 260, 245, 249, 247, 248, 260, 264, 233, 250, 259, 245, 250, 265, 245, 265, 246, 255, 259, 258, 253, 248, 260, 238, 230, 243, 256, 253, 240, 246, 246, 252, 230, 258, 241, 267, 253, 254, 252, 223, 237, 232, 242, 256, 256, 262, 255, 241, 262, 239, 234, 240, 245, 241, 254, 245, 262, 245, 234, 260, 259, 249, 243, 253, 269, 258, 259, 249, 252, 255, 226, 235, 240, 257, 251, 268, 252, 263, 245, 281, 246, 232, 243, 268, 258, 255, 245, 263, 225, 255, 240, 245, 259, 266, 252, 272, 258, 247, 273, 257, 242, 253, 239, 257, 266, 233, 246, 252, 258, 240, 235, 247, 247, 259, 254, 237, 253, 250, 264, 229, 242, 265, 253, 250, 255, 242, 242, 260, 269, 236, 257, 253, 249, 237, 256, 260, 250, 262, 258, 257, 265, 233, 265, 258, 242, 260, 226, 257, 257, 265, 255, 255, 233, 246, 247, 256, 264, 263, 246, 240, 266, 240, 252, 265, 252, 252, 221, 245, 262, 229, 243, 253, 255, 256, 264, 241, 260, 279, 265, 233, 224, 254, 257, 256, 234, 260, 244, 237, 258, 239, 238, 239, 240, 262, 241, 240, 255, 257, 257, 264, 261, 239, 260, 268, 262, 252, 251, 242, 273, 250, 246, 262, 253, 266, 260, 255, 262, 229, 221, 257, 260, 216, 242, 248, 243, 259, 240, 240, 266, 239, 244, 246, 256, 250]\n"
     ]
    },
    {
     "data": {
      "text/plain": [
       "(array([ 1.,  0.,  0.,  0.,  0.,  0.,  0.,  0.,  0.,  0.,  0.,  0.,  0.,\n",
       "         0.,  0.,  1.,  0.,  0.,  0.,  0.,  0.,  0.,  0.,  0.,  0.,  0.,\n",
       "         0.,  0.,  0.,  0.,  0.,  0.,  0.,  0.,  0.,  0.,  0.,  0.,  2.,\n",
       "         0.,  0.,  0.,  0.,  0.,  0.,  0.,  0.,  0.,  0.,  0.,  0.,  0.,\n",
       "         0.,  1.,  0.,  0.,  0.,  0.,  0.,  0.,  0.,  3.,  0.,  0.,  0.,\n",
       "         0.,  0.,  0.,  0.,  1.,  0.,  0.,  0.,  0.,  0.,  0.,  2.,  0.,\n",
       "         0.,  0.,  0.,  0.,  0.,  0.,  2.,  0.,  0.,  0.,  0.,  0.,  0.,\n",
       "         0.,  2.,  0.,  0.,  0.,  0.,  0.,  0.,  0.,  5.,  0.,  0.,  0.,\n",
       "         0.,  0.,  0.,  4.,  0.,  0.,  0.,  0.,  0.,  0.,  0.,  3.,  0.,\n",
       "         0.,  0.,  0.,  0.,  0.,  0.,  4.,  0.,  0.,  0.,  0.,  0.,  0.,\n",
       "         6.,  0.,  0.,  0.,  0.,  0.,  0.,  0.,  6.,  0.,  0.,  0.,  0.,\n",
       "         0.,  0.,  0.,  5.,  0.,  0.,  0.,  0.,  0.,  0.,  4.,  0.,  0.,\n",
       "         0.,  0.,  0.,  0.,  0., 10.,  0.,  0.,  0.,  0.,  0.,  0.,  0.,\n",
       "         7.,  0.,  0.,  0.,  0.,  0.,  0., 13.,  0.,  0.,  0.,  0.,  0.,\n",
       "         0.,  0., 18.,  0.,  0.,  0.,  0.,  0.,  0.,  0., 12.,  0.,  0.,\n",
       "         0.,  0.,  0.,  0.,  0., 16.,  0.,  0.,  0.,  0.,  0.,  0., 11.,\n",
       "         0.,  0.,  0.,  0.,  0.,  0.,  0.,  7.,  0.,  0.,  0.,  0.,  0.,\n",
       "         0.,  0., 17.,  0.,  0.,  0.,  0.,  0.,  0., 18.,  0.,  0.,  0.,\n",
       "         0.,  0.,  0.,  0., 20.,  0.,  0.,  0.,  0.,  0.,  0.,  0.,  9.,\n",
       "         0.,  0.,  0.,  0.,  0.,  0., 18.,  0.,  0.,  0.,  0.,  0.,  0.,\n",
       "         0., 15.,  0.,  0.,  0.,  0.,  0.,  0.,  0., 12.,  0.,  0.,  0.,\n",
       "         0.,  0.,  0., 23.,  0.,  0.,  0.,  0.,  0.,  0.,  0., 21.,  0.,\n",
       "         0.,  0.,  0.,  0.,  0.,  0., 15.,  0.,  0.,  0.,  0.,  0.,  0.,\n",
       "         0., 22.,  0.,  0.,  0.,  0.,  0.,  0., 12.,  0.,  0.,  0.,  0.,\n",
       "         0.,  0.,  0., 22.,  0.,  0.,  0.,  0.,  0.,  0.,  0., 16.,  0.,\n",
       "         0.,  0.,  0.,  0.,  0., 13.,  0.,  0.,  0.,  0.,  0.,  0.,  0.,\n",
       "        17.,  0.,  0.,  0.,  0.,  0.,  0.,  0.,  6.,  0.,  0.,  0.,  0.,\n",
       "         0.,  0., 10.,  0.,  0.,  0.,  0.,  0.,  0.,  0.,  8.,  0.,  0.,\n",
       "         0.,  0.,  0.,  0.,  0., 13.,  0.,  0.,  0.,  0.,  0.,  0., 11.,\n",
       "         0.,  0.,  0.,  0.,  0.,  0.,  0.,  9.,  0.,  0.,  0.,  0.,  0.,\n",
       "         0.,  0.,  3.,  0.,  0.,  0.,  0.,  0.,  0.,  0.,  4.,  0.,  0.,\n",
       "         0.,  0.,  0.,  0.,  5.,  0.,  0.,  0.,  0.,  0.,  0.,  0.,  0.,\n",
       "         0.,  0.,  0.,  0.,  0.,  0.,  0.,  1.,  0.,  0.,  0.,  0.,  0.,\n",
       "         0.,  1.,  0.,  0.,  0.,  0.,  0.,  0.,  0.,  2.,  0.,  0.,  0.,\n",
       "         0.,  0.,  0.,  0.,  3.,  0.,  0.,  0.,  0.,  0.,  0.,  2.,  0.,\n",
       "         0.,  0.,  0.,  0.,  0.,  0.,  0.,  0.,  0.,  0.,  0.,  0.,  0.,\n",
       "         0.,  4.,  0.,  0.,  0.,  0.,  0.,  0.,  0.,  0.,  0.,  0.,  0.,\n",
       "         0.,  0.,  0.,  1.,  0.,  0.,  0.,  0.,  0.,  0.,  0.,  0.,  0.,\n",
       "         0.,  0.,  0.,  0.,  0.,  1.]),\n",
       " array([216.  , 216.13, 216.26, 216.39, 216.52, 216.65, 216.78, 216.91,\n",
       "        217.04, 217.17, 217.3 , 217.43, 217.56, 217.69, 217.82, 217.95,\n",
       "        218.08, 218.21, 218.34, 218.47, 218.6 , 218.73, 218.86, 218.99,\n",
       "        219.12, 219.25, 219.38, 219.51, 219.64, 219.77, 219.9 , 220.03,\n",
       "        220.16, 220.29, 220.42, 220.55, 220.68, 220.81, 220.94, 221.07,\n",
       "        221.2 , 221.33, 221.46, 221.59, 221.72, 221.85, 221.98, 222.11,\n",
       "        222.24, 222.37, 222.5 , 222.63, 222.76, 222.89, 223.02, 223.15,\n",
       "        223.28, 223.41, 223.54, 223.67, 223.8 , 223.93, 224.06, 224.19,\n",
       "        224.32, 224.45, 224.58, 224.71, 224.84, 224.97, 225.1 , 225.23,\n",
       "        225.36, 225.49, 225.62, 225.75, 225.88, 226.01, 226.14, 226.27,\n",
       "        226.4 , 226.53, 226.66, 226.79, 226.92, 227.05, 227.18, 227.31,\n",
       "        227.44, 227.57, 227.7 , 227.83, 227.96, 228.09, 228.22, 228.35,\n",
       "        228.48, 228.61, 228.74, 228.87, 229.  , 229.13, 229.26, 229.39,\n",
       "        229.52, 229.65, 229.78, 229.91, 230.04, 230.17, 230.3 , 230.43,\n",
       "        230.56, 230.69, 230.82, 230.95, 231.08, 231.21, 231.34, 231.47,\n",
       "        231.6 , 231.73, 231.86, 231.99, 232.12, 232.25, 232.38, 232.51,\n",
       "        232.64, 232.77, 232.9 , 233.03, 233.16, 233.29, 233.42, 233.55,\n",
       "        233.68, 233.81, 233.94, 234.07, 234.2 , 234.33, 234.46, 234.59,\n",
       "        234.72, 234.85, 234.98, 235.11, 235.24, 235.37, 235.5 , 235.63,\n",
       "        235.76, 235.89, 236.02, 236.15, 236.28, 236.41, 236.54, 236.67,\n",
       "        236.8 , 236.93, 237.06, 237.19, 237.32, 237.45, 237.58, 237.71,\n",
       "        237.84, 237.97, 238.1 , 238.23, 238.36, 238.49, 238.62, 238.75,\n",
       "        238.88, 239.01, 239.14, 239.27, 239.4 , 239.53, 239.66, 239.79,\n",
       "        239.92, 240.05, 240.18, 240.31, 240.44, 240.57, 240.7 , 240.83,\n",
       "        240.96, 241.09, 241.22, 241.35, 241.48, 241.61, 241.74, 241.87,\n",
       "        242.  , 242.13, 242.26, 242.39, 242.52, 242.65, 242.78, 242.91,\n",
       "        243.04, 243.17, 243.3 , 243.43, 243.56, 243.69, 243.82, 243.95,\n",
       "        244.08, 244.21, 244.34, 244.47, 244.6 , 244.73, 244.86, 244.99,\n",
       "        245.12, 245.25, 245.38, 245.51, 245.64, 245.77, 245.9 , 246.03,\n",
       "        246.16, 246.29, 246.42, 246.55, 246.68, 246.81, 246.94, 247.07,\n",
       "        247.2 , 247.33, 247.46, 247.59, 247.72, 247.85, 247.98, 248.11,\n",
       "        248.24, 248.37, 248.5 , 248.63, 248.76, 248.89, 249.02, 249.15,\n",
       "        249.28, 249.41, 249.54, 249.67, 249.8 , 249.93, 250.06, 250.19,\n",
       "        250.32, 250.45, 250.58, 250.71, 250.84, 250.97, 251.1 , 251.23,\n",
       "        251.36, 251.49, 251.62, 251.75, 251.88, 252.01, 252.14, 252.27,\n",
       "        252.4 , 252.53, 252.66, 252.79, 252.92, 253.05, 253.18, 253.31,\n",
       "        253.44, 253.57, 253.7 , 253.83, 253.96, 254.09, 254.22, 254.35,\n",
       "        254.48, 254.61, 254.74, 254.87, 255.  , 255.13, 255.26, 255.39,\n",
       "        255.52, 255.65, 255.78, 255.91, 256.04, 256.17, 256.3 , 256.43,\n",
       "        256.56, 256.69, 256.82, 256.95, 257.08, 257.21, 257.34, 257.47,\n",
       "        257.6 , 257.73, 257.86, 257.99, 258.12, 258.25, 258.38, 258.51,\n",
       "        258.64, 258.77, 258.9 , 259.03, 259.16, 259.29, 259.42, 259.55,\n",
       "        259.68, 259.81, 259.94, 260.07, 260.2 , 260.33, 260.46, 260.59,\n",
       "        260.72, 260.85, 260.98, 261.11, 261.24, 261.37, 261.5 , 261.63,\n",
       "        261.76, 261.89, 262.02, 262.15, 262.28, 262.41, 262.54, 262.67,\n",
       "        262.8 , 262.93, 263.06, 263.19, 263.32, 263.45, 263.58, 263.71,\n",
       "        263.84, 263.97, 264.1 , 264.23, 264.36, 264.49, 264.62, 264.75,\n",
       "        264.88, 265.01, 265.14, 265.27, 265.4 , 265.53, 265.66, 265.79,\n",
       "        265.92, 266.05, 266.18, 266.31, 266.44, 266.57, 266.7 , 266.83,\n",
       "        266.96, 267.09, 267.22, 267.35, 267.48, 267.61, 267.74, 267.87,\n",
       "        268.  , 268.13, 268.26, 268.39, 268.52, 268.65, 268.78, 268.91,\n",
       "        269.04, 269.17, 269.3 , 269.43, 269.56, 269.69, 269.82, 269.95,\n",
       "        270.08, 270.21, 270.34, 270.47, 270.6 , 270.73, 270.86, 270.99,\n",
       "        271.12, 271.25, 271.38, 271.51, 271.64, 271.77, 271.9 , 272.03,\n",
       "        272.16, 272.29, 272.42, 272.55, 272.68, 272.81, 272.94, 273.07,\n",
       "        273.2 , 273.33, 273.46, 273.59, 273.72, 273.85, 273.98, 274.11,\n",
       "        274.24, 274.37, 274.5 , 274.63, 274.76, 274.89, 275.02, 275.15,\n",
       "        275.28, 275.41, 275.54, 275.67, 275.8 , 275.93, 276.06, 276.19,\n",
       "        276.32, 276.45, 276.58, 276.71, 276.84, 276.97, 277.1 , 277.23,\n",
       "        277.36, 277.49, 277.62, 277.75, 277.88, 278.01, 278.14, 278.27,\n",
       "        278.4 , 278.53, 278.66, 278.79, 278.92, 279.05, 279.18, 279.31,\n",
       "        279.44, 279.57, 279.7 , 279.83, 279.96, 280.09, 280.22, 280.35,\n",
       "        280.48, 280.61, 280.74, 280.87, 281.  ]),\n",
       " <BarContainer object of 500 artists>)"
      ]
     },
     "execution_count": 30,
     "metadata": {},
     "output_type": "execute_result"
    },
    {
     "data": {
      "image/png": "[encoded data removed]",
      "text/plain": [
       "<Figure size 432x288 with 1 Axes>"
      ]
     },
     "metadata": {
      "needs_background": "light"
     },
     "output_type": "display_data"
    }
   ],
   "source": [
    "#your code here\n",
    "y=[] #先设置一个数组存放每一次取正面的结果\n",
    "\n",
    "for i in range(0,500): #开始500次模拟\n",
    "    x=np.random.binomial(500,0.5) \n",
    "    y.append(x)\n",
    "    \n",
    "print('500次投币，每次投币500枚，其中正面朝上的结果是：\\n',y)\n",
    "\n",
    "plt.hist(y,500) #500条直方线显示此次结果\n"
   ]
  },
  {
   "cell_type": "markdown",
   "metadata": {},
   "source": [
    "## The Monty Hall Problem\n",
    "\n",
    "\n",
    "Here's a fun and perhaps surprising statistical riddle, and a good way to get some practice writing python functions\n",
    "\n",
    "In a gameshow, contestants try to guess which of 3 closed doors contain a cash prize (goats are behind the other two doors). Of course, the odds of choosing the correct door are 1 in 3. As a twist, the host of the show occasionally opens a door after a contestant makes his or her choice. This door is always one of the two the contestant did not pick, and is also always one of the goat doors (note that it is always possible to do this, since there are two goat doors). At this point, the contestant has the option of keeping his or her original choice, or swtiching to the other unopened door. The question is: is there any benefit to switching doors? The answer surprises many people who haven't heard the question before.\n",
    "\n",
    "We can answer the problem by running simulations in Python. We'll do it in several parts.\n",
    "\n",
    "First, write a function called `simulate_prizedoor`. This function will simulate the location of the prize in many games -- see the detailed specification below:"
   ]
  },
  {
   "cell_type": "code",
   "execution_count": 53,
   "metadata": {},
   "outputs": [
    {
     "data": {
      "text/plain": [
       "array([2, 0, 2, 0, 0])"
      ]
     },
     "execution_count": 53,
     "metadata": {},
     "output_type": "execute_result"
    }
   ],
   "source": [
    "\"\"\"\n",
    "Function\n",
    "--------\n",
    "simulate_prizedoor\n",
    "\n",
    "Generate a random array of 0s, 1s, and 2s, representing\n",
    "hiding a prize between door 0, door 1, and door 2\n",
    "\n",
    "Parameters\n",
    "----------\n",
    "nsim : int\n",
    "    The number of simulations to run\n",
    "\n",
    "Returns\n",
    "-------\n",
    "sims : array\n",
    "    Random array of 0s, 1s, and 2s\n",
    "\n",
    "Example\n",
    "-------\n",
    ">>> print simulate_prizedoor(3)\n",
    "array([0, 0, 2])\n",
    "\"\"\"\n",
    "#生成一个随机数组，只有0,1,2组成，奖品就放在门0，门1，门2其中\n",
    "def simulate_prizedoor(nsim):\n",
    "    #compute here\n",
    "    answer=np.random.randint(0,3,nsim)#生成0-2之间的数组，数组(模拟次数)长度为nsim,\n",
    "    return answer\n",
    "\n",
    "#your code here\n",
    "\n",
    "simulate_prizedoor(5)"
   ]
  },
  {
   "cell_type": "markdown",
   "metadata": {},
   "source": [
    "Next, write a function that simulates the contestant's guesses for `nsim` simulations. Call this function `simulate_guess`. The specs:"
   ]
  },
  {
   "cell_type": "code",
   "execution_count": 54,
   "metadata": {},
   "outputs": [
    {
     "data": {
      "text/plain": [
       "array([2, 2, 2])"
      ]
     },
     "execution_count": 54,
     "metadata": {},
     "output_type": "execute_result"
    }
   ],
   "source": [
    "\"\"\"\n",
    "Function\n",
    "--------\n",
    "simulate_guess\n",
    "\n",
    "Return any strategy for guessing which door a prize is behind. This\n",
    "could be a random strategy, one that always guesses 2, whatever.\n",
    "\n",
    "Parameters\n",
    "----------\n",
    "nsim : int\n",
    "    The number of simulations to generate guesses for\n",
    "\n",
    "Returns\n",
    "-------\n",
    "guesses : array\n",
    "    An array of guesses. Each guess is a 0, 1, or 2\n",
    "\n",
    "Example\n",
    "-------\n",
    ">>> print simulate_guess(5)\n",
    "array([0, 0, 0, 0, 0])\n",
    "\"\"\"\n",
    "\n",
    "#模拟参赛者对nsim模拟的猜测\n",
    "#your code here\n",
    "def simulate_guess(nsim):\n",
    "    answer=np.random.randint(0,3,nsim)\n",
    "    return answer\n",
    "\n",
    "simulate_guess(3)\n"
   ]
  },
  {
   "cell_type": "markdown",
   "metadata": {},
   "source": [
    "Next, write a function, `goat_door`, to simulate randomly revealing one of the goat doors that a contestant didn't pick.\n",
    "\n",
    "接下来，编写一个函数，goat_door，模拟随机显示一个参赛者没有选择的山羊门"
   ]
  },
  {
   "cell_type": "code",
   "execution_count": 102,
   "metadata": {},
   "outputs": [
    {
     "name": "stdout",
     "output_type": "stream",
     "text": [
      "模拟猜测的值是：\n",
      " [1 0 2]\n",
      "模拟奖励门的值是：\n",
      " [1 1 1]\n",
      "生成的山羊门是：\n",
      " [0, 2, 0]\n"
     ]
    }
   ],
   "source": [
    "\"\"\"\n",
    "Function\n",
    "--------\n",
    "goat_door\n",
    "\n",
    "Simulate the opening of a \"goat door\" that doesn't contain the prize,\n",
    "and is different from the contestants guess\n",
    "\n",
    "Parameters\n",
    "----------\n",
    "prizedoors : array\n",
    "    The door that the prize is behind in each simulation\n",
    "guesses : array\n",
    "    THe door that the contestant guessed in each simulation\n",
    "\n",
    "Returns\n",
    "-------\n",
    "goats : array\n",
    "    The goat door that is opened for each simulation. Each item is 0, 1, or 2, and is different\n",
    "    from both prizedoors and guesses\n",
    "\n",
    "Examples\n",
    "--------\n",
    ">>> print goat_door(np.array([0, 1, 2]), np.array([1, 1, 1]))\n",
    ">>> array([2, 2, 0])\n",
    "\"\"\"\n",
    "# 函数goat_door：模拟随机显示一个参赛者没有选择的山羊门。\n",
    "#your code here\n",
    "\n",
    "\n",
    "def goat_door(prizedoors,guesses):\n",
    "    goats=[]\n",
    "    doors=set([0,1,2]) #set函数创建一个无序、不重复的元素集。门只能在0-2选\n",
    "    lenth=len(prizedoors)    \n",
    "    \n",
    "    for i in range(0,lenth): #从奖励门和用户猜测中取出数值\n",
    "        prizedoor=prizedoors[i]\n",
    "        guess=guesses[i]\n",
    "        \n",
    "        for door in doors: #在元素集中取值对比\n",
    "            if (door!=prizedoor)&(door!=guess): #goats门的值要和奖励门和人选的都不一样\n",
    "                goats.append(door)\n",
    "                break;\n",
    "    return goats\n",
    "\n",
    "\n",
    "#把前面的模拟猜测和模拟奖励门赋值到guesses和prizedoors\n",
    "guesses=simulate_guess(3)\n",
    "print(\"模拟猜测的值是：\\n\",guesses)\n",
    "prizedoors=simulate_prizedoor(3)\n",
    "print(\"模拟奖励门的值是：\\n\",prizedoors)\n",
    "goatdoors=goat_door(prizedoors,guesses)\n",
    "print(\"生成的山羊门是：\\n\",goatdoors)\n"
   ]
  },
  {
   "cell_type": "markdown",
   "metadata": {},
   "source": [
    "Write a function, `switch_guess`, that represents the strategy of always switching a guess after the goat door is opened.\n",
    "\n",
    "编写一个函数switch_guess，它表示在门打开后始终切换猜测的策略。"
   ]
  },
  {
   "cell_type": "code",
   "execution_count": 106,
   "metadata": {},
   "outputs": [
    {
     "name": "stdout",
     "output_type": "stream",
     "text": [
      "模拟猜测的值是：\n",
      " [0 0 0]\n",
      "打开的山羊门的值是：\n",
      " [2 1 0]\n",
      "不选模拟猜测门，也不选山羊门，换的门是：\n",
      " [1, 2, 1]\n"
     ]
    }
   ],
   "source": [
    "\"\"\"\n",
    "Function\n",
    "--------\n",
    "switch_guess\n",
    "\n",
    "The strategy that always switches a guess after the goat door is opened\n",
    "\n",
    "Parameters\n",
    "----------\n",
    "guesses : array\n",
    "     Array of original guesses, for each simulation\n",
    "     原始猜测的门\n",
    "goatdoors : array\n",
    "     Array of revealed goat doors for each simulation\n",
    "     打开的山羊门\n",
    "\n",
    "Returns\n",
    "-------\n",
    "The new door after switching. Should be different from both guesses and goatdoors\n",
    "切换选择后的新门。应该与猜测和已经打开的山羊门不同\n",
    "\n",
    "Examples\n",
    "--------\n",
    ">>> print switch_guess(np.array([0, 1, 2]), np.array([1, 2, 1]))\n",
    ">>> array([2, 0, 0])\n",
    "\"\"\"\n",
    "#编写一个函数switch_guess，它表示在门打开后始终切换猜测的策略。\n",
    "#在山羊门打开后总是切换猜测的策略\n",
    "#your code here\n",
    "def switch_guess(guesses,goatdoors):\n",
    "    switchs=[]\n",
    "    doors=set([0,1,2]) #set函数创建一个无序、不重复的元素集\n",
    "    lenth=len(guesses)    \n",
    "    \n",
    "    for i in range(0,lenth): #从山羊门和用户猜测中取出数值\n",
    "        goatdoor=goatdoors[i]\n",
    "        guess=guesses[i]\n",
    "        \n",
    "        for door in doors: #在元素集中取值对比\n",
    "            if (door!=goatdoor)&(door!=guess): \n",
    "                switchs.append(door)\n",
    "                break;\n",
    "    return switchs\n",
    "\n",
    "guesses=simulate_guess(3)\n",
    "print(\"模拟猜测的值是：\\n\",guesses)\n",
    "prizedoors=simulate_prizedoor(3)\n",
    "print(\"打开的山羊门的值是：\\n\",prizedoors)\n",
    "print(\"不选模拟猜测门，也不选山羊门，换的门是：\\n\",switch_guess(prizedoors,guesses))"
   ]
  },
  {
   "cell_type": "markdown",
   "metadata": {},
   "source": [
    "Last function: write a `win_percentage` function that takes an array of `guesses` and `prizedoors`, and returns the percent of correct guesses\n",
    "\n",
    "最后一个函数：编写一个win_percentage函数，该函数接受猜测和prizedoors数组，并返回正确猜测的百分比"
   ]
  },
  {
   "cell_type": "code",
   "execution_count": 119,
   "metadata": {},
   "outputs": [],
   "source": [
    "\"\"\"\n",
    "Function\n",
    "--------\n",
    "win_percentage\n",
    "\n",
    "Calculate the percent of times that a simulation of guesses is correct\n",
    "计算猜测模拟正确的次数百分比\n",
    "\n",
    "Parameters\n",
    "-----------\n",
    "guesses : array\n",
    "    Guesses for each simulation\n",
    "    每次模拟的猜测\n",
    "    \n",
    "prizedoors : array\n",
    "    Location of prize for each simulation\n",
    "    每个模拟的奖金位置\n",
    "\n",
    "Returns\n",
    "--------\n",
    "percentage : number between 0 and 100\n",
    "    The win percentage\n",
    "    介于0和100之间的数字获胜率\n",
    "\n",
    "Examples\n",
    "---------\n",
    ">>> print win_percentage(np.array([0, 1, 2]), np.array([0, 0, 0]))\n",
    "33.333\n",
    "\"\"\"\n",
    "#your code here\n",
    "def win_percentage(guesses, prizedoors):\n",
    "    return print(100 * (guesses == prizedoors).mean(),'%')"
   ]
  },
  {
   "cell_type": "markdown",
   "metadata": {},
   "source": [
    "Now, put it together. Simulate 10000 games where contestant keeps his original guess, and 10000 games where the contestant switches his door after a  goat door is revealed. Compute the percentage of time the contestant wins under either strategy. Is one strategy better than the other?\n",
    "\n",
    "现在，把它放在一起。模拟10000场比赛，参赛者保持其原始猜测，以及10000场比赛，参赛者在山羊门被打开后切换门。计算选手在任一策略下获胜的时间百分比。一种策略比另一种更好吗？"
   ]
  },
  {
   "cell_type": "code",
   "execution_count": 120,
   "metadata": {},
   "outputs": [
    {
     "name": "stdout",
     "output_type": "stream",
     "text": [
      "不换选择赢\n",
      "33.7 %\n",
      "None\n",
      "换选择后赢\n",
      "66.36999999999999 %\n",
      "None\n"
     ]
    }
   ],
   "source": [
    "#your code here\n",
    "\n",
    "# 模拟10000次\n",
    "nsim = 10000\n",
    "\n",
    "# 不换\n",
    "print(\"不换选择赢\") \n",
    "print(win_percentage(simulate_prizedoor(nsim), simulate_guess(nsim))) \n",
    "\n",
    "# 换\n",
    "pd = simulate_prizedoor(nsim)\n",
    "guess = simulate_guess(nsim)\n",
    "goats = goat_door(pd, guess)\n",
    "guess = switch_guess(guess, goats)\n",
    "print(\"换选择后赢\") \n",
    "print(win_percentage(pd, guess))"
   ]
  },
  {
   "cell_type": "markdown",
   "metadata": {},
   "source": [
    "Many people find this answer counter-intuitive (famously, PhD mathematicians have incorrectly claimed the result must be wrong. Clearly, none of them knew Python). \n"
   ]
  }
 ],
 "metadata": {
  "kernelspec": {
   "display_name": "Python 3 (ipykernel)",
   "language": "python",
   "name": "python3"
  },
  "language_info": {
   "codemirror_mode": {
    "name": "ipython",
    "version": 3
   },
   "file_extension": ".py",
   "mimetype": "text/x-python",
   "name": "python",
   "nbconvert_exporter": "python",
   "pygments_lexer": "ipython3",
   "version": "3.8.11"
  }
 },
 "nbformat": 4,
 "nbformat_minor": 1
}
